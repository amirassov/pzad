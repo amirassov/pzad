{
 "cells": [
  {
   "cell_type": "code",
   "execution_count": null,
   "metadata": {
    "collapsed": true,
    "deletable": true,
    "editable": true
   },
   "outputs": [],
   "source": [
    "import pandas as pd\n",
    "import numpy as np\n",
    "import matplotlib.pyplot as plt\n",
    "from tqdm import tqdm_notebook\n",
    "from sklearn.metrics import accuracy_score\n",
    "from xgboost import XGBClassifier, XGBRegressor\n",
    "from sklearn.ensemble import RandomForestClassifier, RandomForestRegressor, ExtraTreesClassifier\n",
    "from sklearn.linear_model import LogisticRegression\n",
    "from sklearn.preprocessing import Imputer, MinMaxScaler\n",
    "from catboost import CatBoostClassifier, CatBoostRegressor\n",
    "from sklearn.neighbors import KNeighborsClassifier\n",
    "import utils\n",
    "from importlib import reload\n",
    "\n",
    "reload(utils)\n",
    "%matplotlib inline"
   ]
  },
  {
   "cell_type": "code",
   "execution_count": null,
   "metadata": {
    "collapsed": true,
    "deletable": true,
    "editable": true
   },
   "outputs": [],
   "source": [
    "import numpy as np\n",
    "import pandas as pd\n",
    "from tqdm import tqdm\n",
    "\n",
    "\n",
    "def split_data_targets(df):\n",
    "    df_train = df.iloc[:, :-7]\n",
    "    targets_train = get_first_buying(df.iloc[:, -7:])\n",
    "    return df_train, targets_train\n",
    "\n",
    "\n",
    "def calc_accuracy(y, answers):\n",
    "    return (y == np.round(np.minimum(np.maximum(answers, 0), 16))).sum() / len(y)\n",
    "\n",
    "\n",
    "def get_weights(columns, delta=1.2):\n",
    "    n = max(columns) + 1\n",
    "    weeks = (np.arange(n) - n % 7 + 7) // 7 + 1\n",
    "    weights = (weeks / len(weeks))**delta\n",
    "    return (weights / weights.sum())[columns]\n",
    "\n",
    "\n",
    "def get_fraction(df, numbers={0, 1, 2, 3, 4, 5, 6, 7, 8, 9, 10, 11}, delta=1.2):\n",
    "    fractions = []\n",
    "    for i in numbers:\n",
    "        fractions.append(((df == i) * get_weights(df.columns.values, delta=delta)).sum(axis=1))\n",
    "    return pd.DataFrame(pd.concat(fractions, axis=1))\n",
    "\n",
    "\n",
    "def get_first_buying(df):\n",
    "    first_nonzero = pd.Series(0, index=df.index)\n",
    "    _df = df[df.sum(axis=1) != 0]\n",
    "    mask = (_df.values != 0)\n",
    "    x_nonzero = _df.values[mask]\n",
    "    i_nonzero = [0] + mask.sum(axis=1).cumsum()[:-1].tolist()\n",
    "    first_nonzero.loc[_df.index] = x_nonzero[i_nonzero]\n",
    "    return first_nonzero\n",
    "\n",
    "\n",
    "def get_last_buying_day(df):\n",
    "    df_reverse = df.iloc[:, ::-1]\n",
    "    df_days = np.repeat(\n",
    "        np.array(df_reverse.columns).reshape(1, -1), repeats=len(df), axis=0)\n",
    "    df_days = df_days * (df_reverse != 0)\n",
    "    first_nonzero = pd.Series(0, index=df.index)\n",
    "    _df = df_days[df_days.sum(axis=1) != 0]\n",
    "    mask = (_df.values != 0)\n",
    "    x_nonzero = _df.values[mask]\n",
    "    i_nonzero = [0] + mask.sum(axis=1).cumsum()[:-1].tolist()\n",
    "    first_nonzero.loc[_df.index] = x_nonzero[i_nonzero]\n",
    "    return max(df_reverse.columns) - first_nonzero + 1\n",
    "\n",
    "\n",
    "def generate_full_factors(df, full_delta_mean=1.2, full_delta_std=0.6, full_delta_frac=1.2):\n",
    "    columns = [\n",
    "        'full_mean_weight', 'full_std_weight', 'full_frac_0_weight',\n",
    "        'full_frac_1_weight', 'full_frac_2_weight', 'full_frac_3_weight',\n",
    "        'full_frac_4_weight', 'full_frac_5_weight', 'full_frac_6_weight',\n",
    "        'full_frac_7_weight', 'full_frac_8_weight', 'full_frac_9_weight',\n",
    "        'full_frac_10_weight', 'full_frac_11_weight', 'full_nonzero_mode'\n",
    "    ]\n",
    "    df_frac = get_fraction(df, delta=full_delta_frac)\n",
    "    df_factor = pd.concat(\n",
    "        [(df * get_weights(df.columns.values, delta=full_delta_mean)).mean(axis=1),\n",
    "         (df * get_weights(df.columns.values, delta=full_delta_std)).std(axis=1), df_frac,\n",
    "         pd.DataFrame(np.argmax(df_frac.values[:, 1:], axis=1) + 1, index=df.index)], axis=1)\n",
    "    df_factor.columns = columns\n",
    "    return df_factor\n",
    "\n",
    "\n",
    "def generate_nonzero_factors(df, nonzero_delta=1.2):\n",
    "    columns = ['nonzero_mean_weight']\n",
    "    df_nonzero = df[df != 0]\n",
    "    weights = get_weights(df_nonzero.columns.values, delta=nonzero_delta)\n",
    "    df_factor = pd.concat([(df_nonzero * weights).mean(axis=1)], axis=1)\n",
    "    df_factor.columns = columns\n",
    "    return df_factor\n",
    "\n",
    "\n",
    "def generate_n_last_week_factors(df, n=1):\n",
    "    columns = [\n",
    "        \"last_week_{}_mean\".format(n),\n",
    "        \"last_week_{}_noncount\".format(n),\n",
    "        \"last_week_{}_nonzero_mean\".format(n),\n",
    "        \"last_week_{}_nonzero_mode\".format(n),\n",
    "        \"last_week_{}_first_expense\".format(n),\n",
    "    ]\n",
    "    max_date = max(df.columns)\n",
    "    df_7n = df.loc[:, max_date - 7 * n + 1:max_date - 7 * (n - 1)]\n",
    "    df_frac = get_fraction(df_7n)\n",
    "    df_factor = pd.concat(\n",
    "        [\n",
    "            df_7n.mean(axis=1),\n",
    "            (df_7n == 0).sum(axis=1),\n",
    "            df_7n[df_7n != 0].mean(axis=1),\n",
    "            pd.DataFrame(np.argmax(df_frac.values[:, 1:], axis=1) + 1, index=df.index),\n",
    "            get_first_buying(df_7n),\n",
    "        ],\n",
    "        axis=1)\n",
    "    df_factor.columns = columns\n",
    "    return df_factor\n",
    "\n",
    "\n",
    "def generate_first_expense_factors(df, first_delta_frac=0.5, first_delta_mean=0.2):\n",
    "    columns = [\n",
    "        \"first_expense_mean\", 'first_expense_frac_0_weight',\n",
    "        'first_expense_frac_1_weight', 'first_expense_frac_2_weight',\n",
    "        'first_expense_frac_3_weight', 'first_expense_frac_4_weight',\n",
    "        'first_expense_frac_5_weight', 'first_expense_frac_6_weight',\n",
    "        'first_expense_frac_7_weight', 'first_expense_frac_8_weight',\n",
    "        \"first_expense_nonzero_mean\", \"first_expense_nonzero_mode\"\n",
    "    ]\n",
    "    firsts = []\n",
    "    for week in (df.columns[len(df.columns) % 7::].values.reshape(-1, 7)):\n",
    "        df_week = df.loc[:, week]\n",
    "        firsts.append(get_first_buying(df_week))\n",
    "    df_expense = pd.DataFrame(pd.concat(firsts, axis=1))\n",
    "    df_frac = get_fraction(df_expense, delta=first_delta_frac)\n",
    "    df_factor = pd.concat(\n",
    "        [\n",
    "            (df_expense * get_weights(df_expense.columns.values, delta=first_delta_mean)).mean(axis=1),\n",
    "            get_fraction(df_expense, {0, 1, 2, 3, 4, 5, 6, 7, 8}),\n",
    "            df_expense[df_expense != 0].mean(axis=1),\n",
    "            pd.DataFrame(np.argmax(df_frac.values[:, 1:], axis=1) + 1, index=df.index)\n",
    "        ], axis=1\n",
    "    )\n",
    "    df_factor.columns = columns\n",
    "    return df_factor\n",
    "\n",
    "\n",
    "def generate_prob_week_factors(df, prob_delta=0.2):\n",
    "    columns = [\n",
    "        \"week_prob_1\", \"week_prob_2\", \"week_prob_3\", \"week_prob_4\",\n",
    "        \"week_prob_5\", \"week_prob_6\", \"week_prob_7\"\n",
    "    ]\n",
    "    weeks = []\n",
    "    df_weight = (df != 0) * get_weights(df.columns.values, delta=prob_delta)\n",
    "    for n in (np.arange(1, 8)):\n",
    "        df_week = df_weight.loc[:, n % 7 + len(df_weight.columns) % 7::7]\n",
    "        weeks.append(df_week.sum(axis=1))\n",
    "    df_week = pd.DataFrame(pd.concat(weeks, axis=1))\n",
    "    prob = df_week.values / (df_week.sum(axis=1).values.reshape(-1, 1) + 1e-6)\n",
    "    prob_first = prob * np.concatenate([np.ones((len(prob), 1)), np.cumprod(1 - prob, axis=1)[:, :-1]], axis=1)\n",
    "    df_factor = pd.DataFrame(prob_first, index=df.index)\n",
    "    df_factor.columns = columns\n",
    "    return df_factor\n",
    "\n",
    "\n",
    "def generate_last_buying_factors(df):\n",
    "    columns = [\"last_buying_sum\",\n",
    "               \"last_buying_day\",\n",
    "               \"last_buying_day_3\",\n",
    "               \"last_buying_day_4\",\n",
    "               \"last_buying_day_5\",\n",
    "               \"last_buying_day_6\",\n",
    "               \"last_buying_day_7\",\n",
    "               \"last_buying_day_8\"]\n",
    "    df_factor = pd.concat(\n",
    "        [\n",
    "            get_first_buying(df.iloc[:, ::-1]),\n",
    "            get_last_buying_day(df),\n",
    "            get_last_buying_day(df * (df == 3)),\n",
    "            get_last_buying_day(df * (df == 4)),\n",
    "            get_last_buying_day(df * (df == 5)),\n",
    "            get_last_buying_day(df * (df == 6)),\n",
    "            get_last_buying_day(df * (df == 7)),\n",
    "            get_last_buying_day(df * (df == 8))\n",
    "         ], axis=1\n",
    "    )\n",
    "    \n",
    "    df_factor.columns = columns\n",
    "    return df_factor\n",
    "\n",
    "\n",
    "def generate_factors(df):\n",
    "    with tqdm(total=8) as bar:\n",
    "        df_full = generate_full_factors(df)\n",
    "        bar.update()\n",
    "        df_nonzero = generate_nonzero_factors(df)\n",
    "        bar.update()\n",
    "        df_1_last_week = generate_n_last_week_factors(df)\n",
    "        bar.update()\n",
    "        df_2_last_week = generate_n_last_week_factors(df, n=2)\n",
    "        bar.update()\n",
    "        df_3_last_week = generate_n_last_week_factors(df, n=3)\n",
    "        bar.update()\n",
    "        df_first_expense = generate_first_expense_factors(df)\n",
    "        bar.update()\n",
    "        df_prob_week = generate_prob_week_factors(df)\n",
    "        bar.update()\n",
    "        df_last_buying = generate_last_buying_factors(df)\n",
    "        bar.update()\n",
    "    df_factor = pd.concat(\n",
    "        [\n",
    "            df_full, df_nonzero, df_1_last_week, df_2_last_week,\n",
    "            df_3_last_week, df_first_expense, df_prob_week, df_last_buying\n",
    "        ],\n",
    "        axis=1)\n",
    "    return df_factor"
   ]
  },
  {
   "cell_type": "markdown",
   "metadata": {
    "deletable": true,
    "editable": true
   },
   "source": [
    "### загрузка"
   ]
  },
  {
   "cell_type": "code",
   "execution_count": null,
   "metadata": {
    "collapsed": true,
    "deletable": true,
    "editable": true
   },
   "outputs": [],
   "source": [
    "df_data = pd.read_csv(\"train2.csv.xls\").pivot(index='id', columns='date', values='sum').fillna(0)"
   ]
  },
  {
   "cell_type": "markdown",
   "metadata": {
    "deletable": true,
    "editable": true
   },
   "source": [
    "### очистка"
   ]
  },
  {
   "cell_type": "code",
   "execution_count": null,
   "metadata": {
    "collapsed": true,
    "deletable": true,
    "editable": true
   },
   "outputs": [],
   "source": [
    "df_data.loc[:, 269] = df_data.loc[:, 270]"
   ]
  },
  {
   "cell_type": "markdown",
   "metadata": {
    "deletable": true,
    "editable": true
   },
   "source": [
    "### разделение"
   ]
  },
  {
   "cell_type": "code",
   "execution_count": null,
   "metadata": {
    "collapsed": true,
    "deletable": true,
    "editable": true
   },
   "outputs": [],
   "source": [
    "df_test, targets_test = utils.split_data_targets(df_data)\n",
    "df_train, targets_train = utils.split_data_targets(df_test)\n",
    "df_train_2, targets_train_2 = utils.split_data_targets(df_train)\n",
    "df_train_3, targets_train_3 = utils.split_data_targets(df_train_2)"
   ]
  },
  {
   "cell_type": "markdown",
   "metadata": {
    "deletable": true,
    "editable": true
   },
   "source": [
    "### извлечение факторов"
   ]
  },
  {
   "cell_type": "code",
   "execution_count": null,
   "metadata": {
    "collapsed": false,
    "deletable": true,
    "editable": true,
    "scrolled": false
   },
   "outputs": [],
   "source": [
    "X_train = utils.generate_factors(df_train)\n",
    "y_train = targets_train.values"
   ]
  },
  {
   "cell_type": "code",
   "execution_count": null,
   "metadata": {
    "collapsed": false,
    "deletable": true,
    "editable": true,
    "scrolled": false
   },
   "outputs": [],
   "source": [
    "X_train_2 = utils.generate_factors(df_train_2)\n",
    "y_train_2 = targets_train_2.values"
   ]
  },
  {
   "cell_type": "code",
   "execution_count": null,
   "metadata": {
    "collapsed": false,
    "deletable": true,
    "editable": true,
    "scrolled": true
   },
   "outputs": [],
   "source": [
    "X_train_3 = utils.generate_factors(df_train_3)\n",
    "y_train_3 = targets_train_3.values"
   ]
  },
  {
   "cell_type": "code",
   "execution_count": null,
   "metadata": {
    "collapsed": false,
    "deletable": true,
    "editable": true,
    "scrolled": true
   },
   "outputs": [],
   "source": [
    "X_test = utils.generate_factors(df_test)\n",
    "y_test = targets_test.values"
   ]
  },
  {
   "cell_type": "code",
   "execution_count": null,
   "metadata": {
    "collapsed": false,
    "deletable": true,
    "editable": true,
    "scrolled": false
   },
   "outputs": [],
   "source": [
    "X = utils.generate_factors(df_data)"
   ]
  },
  {
   "cell_type": "markdown",
   "metadata": {
    "deletable": true,
    "editable": true
   },
   "source": [
    "### models"
   ]
  },
  {
   "cell_type": "code",
   "execution_count": null,
   "metadata": {
    "collapsed": false,
    "deletable": true,
    "editable": true
   },
   "outputs": [],
   "source": [
    "xgb = XGBClassifier(\n",
    "    base_score=0.35, \n",
    "    colsample_bytree=1, learning_rate=0.01, max_delta_step=0,\n",
    "    max_depth=5, n_estimators=750, n_jobs=-1, subsample=1.0, random_state=1134,\n",
    ")\n",
    "X_conc = np.concatenate([X_test.values, X_train.values, X_train_2.values])\n",
    "y_conc = np.concatenate([y_test, y_train, y_train_2])\n",
    "xgb.fit(X_conc, y_conc)"
   ]
  },
  {
   "cell_type": "code",
   "execution_count": null,
   "metadata": {
    "collapsed": true,
    "deletable": true,
    "editable": true
   },
   "outputs": [],
   "source": [
    "preds_xgb = xgb.predict(X.values)"
   ]
  },
  {
   "cell_type": "code",
   "execution_count": null,
   "metadata": {
    "collapsed": true,
    "deletable": true,
    "editable": true
   },
   "outputs": [],
   "source": [
    "sub = pd.DataFrame([df_data.index, preds_xgb]).T.astype(int)"
   ]
  },
  {
   "cell_type": "code",
   "execution_count": null,
   "metadata": {
    "collapsed": true,
    "deletable": true,
    "editable": true
   },
   "outputs": [],
   "source": [
    "sub.columns = ['id', 'sum']"
   ]
  },
  {
   "cell_type": "code",
   "execution_count": null,
   "metadata": {
    "collapsed": true,
    "deletable": true,
    "editable": true
   },
   "outputs": [],
   "source": [
    "sub.astype(int).to_csv(\"sub_xgb.csv\", index=False)"
   ]
  },
  {
   "cell_type": "code",
   "execution_count": null,
   "metadata": {
    "collapsed": true,
    "deletable": true,
    "editable": true
   },
   "outputs": [],
   "source": []
  }
 ],
 "metadata": {
  "kernelspec": {
   "display_name": "Python 3",
   "language": "python",
   "name": "python3"
  },
  "language_info": {
   "codemirror_mode": {
    "name": "ipython",
    "version": 3
   },
   "file_extension": ".py",
   "mimetype": "text/x-python",
   "name": "python",
   "nbconvert_exporter": "python",
   "pygments_lexer": "ipython3",
   "version": "3.6.0"
  },
  "toc": {
   "colors": {
    "hover_highlight": "#DAA520",
    "navigate_num": "#000000",
    "navigate_text": "#333333",
    "running_highlight": "#FF0000",
    "selected_highlight": "#FFD700",
    "sidebar_border": "#EEEEEE",
    "wrapper_background": "#FFFFFF"
   },
   "moveMenuLeft": true,
   "nav_menu": {
    "height": "12px",
    "width": "252px"
   },
   "navigate_menu": true,
   "number_sections": true,
   "sideBar": true,
   "threshold": 4,
   "toc_cell": false,
   "toc_section_display": "block",
   "toc_window_display": false,
   "widenNotebook": false
  },
  "varInspector": {
   "cols": {
    "lenName": 16,
    "lenType": 16,
    "lenVar": 40
   },
   "kernels_config": {
    "python": {
     "delete_cmd_postfix": "",
     "delete_cmd_prefix": "del ",
     "library": "var_list.py",
     "varRefreshCmd": "print(var_dic_list())"
    },
    "r": {
     "delete_cmd_postfix": ") ",
     "delete_cmd_prefix": "rm(",
     "library": "var_list.r",
     "varRefreshCmd": "cat(var_dic_list()) "
    }
   },
   "types_to_exclude": [
    "module",
    "function",
    "builtin_function_or_method",
    "instance",
    "_Feature"
   ],
   "window_display": false
  }
 },
 "nbformat": 4,
 "nbformat_minor": 2
}
