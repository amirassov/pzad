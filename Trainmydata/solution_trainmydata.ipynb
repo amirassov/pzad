{
 "cells": [
  {
   "cell_type": "code",
   "execution_count": 2,
   "metadata": {
    "ExecuteTime": {
     "end_time": "2017-12-25T08:11:33.885602Z",
     "start_time": "2017-12-25T08:11:33.877055Z"
    }
   },
   "outputs": [],
   "source": [
    "import numpy as np\n",
    "import pandas as pd\n",
    "from lightgbm import LGBMRegressor\n",
    "from xgboost import XGBRegressor\n",
    "from catboost import CatBoostRegressor\n",
    "from sklearn.model_selection import train_test_split\n",
    "from sklearn.metrics.regression import mean_squared_error\n",
    "from sklearn.linear_model import ElasticNet\n",
    "from sklearn.preprocessing import PolynomialFeatures, OneHotEncoder, Imputer, MinMaxScaler\n",
    "from sklearn.neighbors import KNeighborsRegressor\n",
    "from sklearn.ensemble import ExtraTreesRegressor, RandomForestRegressor\n",
    "from tqdm import tqdm_notebook"
   ]
  },
  {
   "cell_type": "code",
   "execution_count": 3,
   "metadata": {
    "ExecuteTime": {
     "end_time": "2017-12-25T08:11:34.498825Z",
     "start_time": "2017-12-25T08:11:34.476077Z"
    },
    "scrolled": true
   },
   "outputs": [],
   "source": [
    "train = pd.read_csv(\"files-ascott_group/train_set_weeks.csv\")\n",
    "test = pd.read_csv(\"files-ascott_group/test_set_weeks.csv\")"
   ]
  },
  {
   "cell_type": "markdown",
   "metadata": {},
   "source": [
    "### Добавляем номер недели как столбец "
   ]
  },
  {
   "cell_type": "code",
   "execution_count": 4,
   "metadata": {
    "ExecuteTime": {
     "end_time": "2017-12-25T08:11:34.854489Z",
     "start_time": "2017-12-25T08:11:34.831500Z"
    },
    "scrolled": true
   },
   "outputs": [],
   "source": [
    "train['wk_num'] = train['wk'].apply(lambda x: int(str(x)[4:]))\n",
    "test['wk_num'] = test['wk'].apply(lambda x: int(str(x)[4:]))"
   ]
  },
  {
   "cell_type": "markdown",
   "metadata": {},
   "source": [
    "### Парные категориальные признаки"
   ]
  },
  {
   "cell_type": "code",
   "execution_count": 5,
   "metadata": {
    "ExecuteTime": {
     "end_time": "2017-12-25T08:11:35.590705Z",
     "start_time": "2017-12-25T08:11:35.299573Z"
    }
   },
   "outputs": [],
   "source": [
    "train['idFilial_KanalDB'] = train['idFilial'].astype(str) + \"_\" + train['KanalDB'].astype(str)\n",
    "train['idFilial_idSubGrp'] = train['idFilial'].astype(str) + \"_\" + train['idSubGrp'].astype(str)\n",
    "train['KanalDB_idSubGrp'] = train['KanalDB'].astype(str) + \"_\" + train['idSubGrp'].astype(str)\n",
    "\n",
    "test['idFilial_KanalDB'] = test['idFilial'].astype(str) + \"_\" + test['KanalDB'].astype(str)\n",
    "test['idFilial_idSubGrp'] = test['idFilial'].astype(str) + \"_\" + test['idSubGrp'].astype(str)\n",
    "test['KanalDB_idSubGrp'] = test['KanalDB'].astype(str) + \"_\" + test['idSubGrp'].astype(str)"
   ]
  },
  {
   "cell_type": "markdown",
   "metadata": {},
   "source": [
    "### Сглаженные средние"
   ]
  },
  {
   "cell_type": "code",
   "execution_count": 6,
   "metadata": {
    "ExecuteTime": {
     "end_time": "2017-12-25T08:11:37.173668Z",
     "start_time": "2017-12-25T08:11:36.916028Z"
    },
    "scrolled": true
   },
   "outputs": [],
   "source": [
    "cat_columns = ['idFilial', 'KanalDB', 'idSubGrp', \n",
    "               'idFilial_KanalDB', 'idFilial_idSubGrp', 'KanalDB_idSubGrp']\n",
    "info = {}\n",
    "ALPHA = 15\n",
    "for i in np.arange(test['N wk'].max(), 11 + test['N wk'].max() % 11, -11):\n",
    "    if i > train['N wk'].max():\n",
    "        test['wk_window'] = i\n",
    "    else: \n",
    "        train.loc[(train['N wk'] <= i) & (train['N wk'] >= i - 10), 'wk_window'] = i\n",
    "        \n",
    "    tmp = train[(train['N wk'] <= i - 11) & (train['N wk'] >= i - 21)]\n",
    "    info[i] = {}\n",
    "    for col in cat_columns:\n",
    "        info[i][col] = {}\n",
    "        mean = tmp.groupby(col)['value'].mean()        \n",
    "        size = tmp.groupby(col)['value'].size()\n",
    "        gmean = tmp['value'].mean()\n",
    "        smooth_mean = (ALPHA * gmean + size * mean) / (ALPHA + size)\n",
    "        info[i][col]['mean'] = smooth_mean"
   ]
  },
  {
   "cell_type": "code",
   "execution_count": 7,
   "metadata": {
    "ExecuteTime": {
     "end_time": "2017-12-25T08:11:38.849220Z",
     "start_time": "2017-12-25T08:11:38.452201Z"
    },
    "scrolled": true
   },
   "outputs": [],
   "source": [
    "for i in np.arange(test['N wk'].max(), 11 + test['N wk'].max() % 11, -11):\n",
    "    for col in cat_columns:\n",
    "        if i > train['N wk'].max():\n",
    "            for name, stat in info[i][col].items():\n",
    "                s = test.loc[test['wk_window'] == i, col].map(stat)\n",
    "                test.loc[test['wk_window'] == i, 'value_{}_{}'.format(col, name)] = s\n",
    "        else: \n",
    "            for name, stat in info[i][col].items():\n",
    "                s = train.loc[train['wk_window'] == i, col].map(stat)\n",
    "                train.loc[train['wk_window'] == i, 'value_{}_{}'.format(col, name)] = s"
   ]
  },
  {
   "cell_type": "markdown",
   "metadata": {},
   "source": [
    "### Метапризнаки"
   ]
  },
  {
   "cell_type": "code",
   "execution_count": 8,
   "metadata": {
    "ExecuteTime": {
     "end_time": "2017-12-25T08:12:02.731431Z",
     "start_time": "2017-12-25T08:11:48.118865Z"
    },
    "collapsed": true
   },
   "outputs": [
    {
     "data": {
      "application/vnd.jupyter.widget-view+json": {
       "model_id": "95e055f1d25443d98666c4a8d0595111",
       "version_major": 2,
       "version_minor": 0
      },
      "text/html": [
       "<p>Failed to display Jupyter Widget of type <code>HBox</code>.</p>\n",
       "<p>\n",
       "  If you're reading this message in the Jupyter Notebook or JupyterLab Notebook, it may mean\n",
       "  that the widgets JavaScript is still loading. If this message persists, it\n",
       "  likely means that the widgets JavaScript library is either not installed or\n",
       "  not enabled. See the <a href=\"https://ipywidgets.readthedocs.io/en/stable/user_install.html\">Jupyter\n",
       "  Widgets Documentation</a> for setup instructions.\n",
       "</p>\n",
       "<p>\n",
       "  If you're reading this message in another frontend (for example, a static\n",
       "  rendering on GitHub or <a href=\"https://nbviewer.jupyter.org/\">NBViewer</a>),\n",
       "  it may mean that your frontend doesn't currently support widgets.\n",
       "</p>\n"
      ],
      "text/plain": [
       "HBox(children=(IntProgress(value=0, max=16), HTML(value='')))"
      ]
     },
     "metadata": {},
     "output_type": "display_data"
    },
    {
     "name": "stdout",
     "output_type": "stream",
     "text": [
      "76265.7266386\n",
      "94737.3320493\n",
      "72116.1951095\n",
      "73976.8353654\n",
      "87343.9161673\n",
      "78753.870621\n",
      "91195.3110567\n",
      "79119.4649447\n",
      "75215.3633694\n",
      "85515.4303242\n",
      "78240.5441752\n",
      "91102.1803809\n",
      "79770.3334801\n",
      "80830.1417002\n",
      "83909.7881713\n",
      "45749.6500659\n",
      "53626.1132589\n",
      "45774.284577\n",
      "46339.7423043\n",
      "44793.7300878\n",
      "54544.3430048\n",
      "65496.6203002\n",
      "54150.1756765\n",
      "50952.2454204\n",
      "58272.9305783\n",
      "42777.3876423\n",
      "48603.6488351\n",
      "44075.2594053\n",
      "42911.6622649\n",
      "44508.5815053\n",
      "65804.0990901\n",
      "68861.2200076\n",
      "63336.1095858\n",
      "59818.097624\n",
      "62746.6355429\n",
      "61248.4548315\n",
      "69735.2563164\n",
      "61668.0011992\n",
      "59681.2998797\n",
      "64894.0955696\n",
      "44623.6742057\n",
      "53414.630746\n",
      "49307.0254312\n",
      "42509.1396794\n",
      "46494.7118296\n",
      "50363.7498168\n",
      "63194.1605879\n",
      "51158.8480243\n",
      "49663.5660694\n",
      "56062.4741083\n",
      "39274.7361557\n",
      "52718.9326095\n",
      "37747.5891799\n",
      "37725.6563628\n",
      "42101.513901\n",
      "114229.88449\n",
      "86564.5870803\n",
      "96674.9021895\n",
      "77411.5009515\n",
      "86302.8718367\n",
      "70982.3056428\n",
      "82134.9069599\n",
      "72361.2235319\n",
      "64191.6149976\n",
      "69340.3882944\n",
      "70728.1288852\n",
      "84774.3282578\n",
      "68425.2251281\n",
      "68590.1642978\n",
      "76057.72263\n",
      "49354.2269224\n",
      "63980.0723255\n",
      "47128.1827693\n",
      "47314.414221\n",
      "54762.6625441\n",
      "\n"
     ]
    }
   ],
   "source": [
    "mms = MinMaxScaler()\n",
    "enc = OneHotEncoder(sparse=False)\n",
    "cat_columns = ['idFilial', 'KanalDB', 'idSubGrp', 'idFilial_KanalDB', \n",
    "               'idFilial_idSubGrp', 'KanalDB_idSubGrp']\n",
    "num_columns = ['N wk']\n",
    "\n",
    "xgb = XGBRegressor(n_estimators=100, max_depth=3, n_jobs=-1)\n",
    "rf = RandomForestRegressor(n_jobs=-1, n_estimators=100, max_depth=3)\n",
    "knn5 = KNeighborsRegressor(n_neighbors=5, n_jobs=-1)\n",
    "knn11 = KNeighborsRegressor(n_neighbors=11, n_jobs=-1)\n",
    "knn21 = KNeighborsRegressor(n_neighbors=21, n_jobs=-1)\n",
    "models = [xgb, rf, knn5, knn11, knn21]\n",
    "names = ['xgb', 'rf', 'knn5', 'knn11', 'knn21']\n",
    "\n",
    "for i in tqdm_notebook(np.arange(test['N wk'].max(), 11 + test['N wk'].max() % 11, -11)):\n",
    "    if i > train['N wk'].max():\n",
    "        tmp_test = test\n",
    "    else: \n",
    "        tmp_test = train.loc[(train['N wk'] <= i) & (train['N wk'] >= i - 10)]\n",
    "    tmp_train = train[(train['N wk'] <= i - 11) & (train['N wk'] >= i - 21)]\n",
    "    \n",
    "    Xtrain = mms.fit_transform(np.concatenate([\n",
    "        enc.fit_transform(tmp_train[cat_columns]),\n",
    "        tmp_train[num_columns]\n",
    "    ], axis=1))\n",
    "\n",
    "    Xtest = mms.transform(np.concatenate([\n",
    "        enc.transform(tmp_test[cat_columns]),\n",
    "        tmp_test[num_columns]\n",
    "    ], axis=1))\n",
    "    ytrain = tmp_train['value']\n",
    "    \n",
    "    for name, model in zip(names, models):\n",
    "        model.fit(Xtrain, ytrain)\n",
    "        p = model.predict(Xtest)\n",
    "        if i > train['N wk'].max(): \n",
    "            test['stack_{}'.format(name)] = p\n",
    "        else:\n",
    "            train.loc[(train['N wk'] <= i) & (train['N wk'] >= i - 10), 'stack_{}'.format(name)] = p\n",
    "            print(np.sqrt(mean_squared_error(tmp_test['value'], p)))"
   ]
  },
  {
   "cell_type": "code",
   "execution_count": 9,
   "metadata": {
    "ExecuteTime": {
     "end_time": "2017-12-25T08:12:02.739158Z",
     "start_time": "2017-12-25T08:12:02.732906Z"
    }
   },
   "outputs": [],
   "source": [
    "train = train[train['wk_window'].notnull()]"
   ]
  },
  {
   "cell_type": "code",
   "execution_count": 12,
   "metadata": {
    "ExecuteTime": {
     "end_time": "2017-12-25T08:12:12.499433Z",
     "start_time": "2017-12-25T08:12:12.488831Z"
    }
   },
   "outputs": [],
   "source": [
    "fcolumns = ['N wk', 'idFilial', 'KanalDB', 'idSubGrp',\n",
    "       'wk_num', 'idFilial_KanalDB', 'idFilial_idSubGrp', 'KanalDB_idSubGrp',\n",
    "       'wk_window', 'value_idFilial_mean', 'value_KanalDB_mean',\n",
    "       'value_idSubGrp_mean', 'value_idFilial_KanalDB_mean',\n",
    "       'value_idFilial_idSubGrp_mean', 'value_KanalDB_idSubGrp_mean',\n",
    "       'stack_xgb', 'stack_rf', 'stack_knn5', 'stack_knn11', 'stack_knn21', 'wk']"
   ]
  },
  {
   "cell_type": "markdown",
   "metadata": {},
   "source": [
    "### Обучаем 10 lgb-ов и усредняем"
   ]
  },
  {
   "cell_type": "code",
   "execution_count": 25,
   "metadata": {
    "ExecuteTime": {
     "end_time": "2017-12-25T08:33:12.523988Z",
     "start_time": "2017-12-25T08:27:05.728183Z"
    },
    "collapsed": true
   },
   "outputs": [
    {
     "name": "stdout",
     "output_type": "stream",
     "text": [
      "0\n",
      "132558.994769\n",
      "1\n",
      "133886.285686\n",
      "2\n",
      "135144.160055\n",
      "3\n",
      "129773.075253\n",
      "4\n",
      "138025.153402\n",
      "5\n",
      "131281.995573\n",
      "6\n",
      "133425.455389\n",
      "7\n",
      "136716.457372\n",
      "8\n",
      "132765.083218\n",
      "9\n",
      "133307.114896\n"
     ]
    }
   ],
   "source": [
    "p = []\n",
    "for i in range(10):\n",
    "    print(i)\n",
    "    cat = CatBoostRegressor(iterations=2000 + i, learning_rate=0.01, \n",
    "                            random_seed=i * 77, thread_count=8, depth=4, \n",
    "                            eval_metric='RMSE', l2_leaf_reg=2 + i / 100, rsm=0.8 + i / 1000)\n",
    "    cat.fit(\n",
    "        train[fcolumns].values, \n",
    "        train['value'].values, \n",
    "        cat_features=[1, 2, 3, 4, 5, 6, 7]\n",
    "    )\n",
    "    preds = cat.predict(test[fcolumns].values)\n",
    "    p.append(preds)\n",
    "    print(np.mean(preds))"
   ]
  },
  {
   "cell_type": "code",
   "execution_count": 27,
   "metadata": {
    "ExecuteTime": {
     "end_time": "2017-12-25T08:33:22.973858Z",
     "start_time": "2017-12-25T08:33:22.968815Z"
    }
   },
   "outputs": [],
   "source": [
    "sub = pd.read_csv(\"files-ascott_group/sample_submission.csv\")"
   ]
  },
  {
   "cell_type": "code",
   "execution_count": 28,
   "metadata": {
    "ExecuteTime": {
     "end_time": "2017-12-25T08:33:25.352161Z",
     "start_time": "2017-12-25T08:33:25.343991Z"
    },
    "scrolled": true
   },
   "outputs": [],
   "source": [
    "s = pd.DataFrame(data=np.mean(p, axis=0), index=test['id'], columns=['value'])\n",
    "s.to_csv('new2.csv')"
   ]
  }
 ],
 "metadata": {
  "kernelspec": {
   "display_name": "Python 3",
   "language": "python",
   "name": "python3"
  },
  "language_info": {
   "codemirror_mode": {
    "name": "ipython",
    "version": 3
   },
   "file_extension": ".py",
   "mimetype": "text/x-python",
   "name": "python",
   "nbconvert_exporter": "python",
   "pygments_lexer": "ipython3",
   "version": "3.6.3"
  },
  "toc": {
   "nav_menu": {},
   "number_sections": true,
   "sideBar": true,
   "skip_h1_title": false,
   "toc_cell": false,
   "toc_position": {},
   "toc_section_display": "block",
   "toc_window_display": false
  }
 },
 "nbformat": 4,
 "nbformat_minor": 2
}
