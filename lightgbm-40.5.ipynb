{
 "cells": [
  {
   "cell_type": "code",
   "execution_count": 6,
   "metadata": {
    "collapsed": false,
    "deletable": true,
    "editable": true
   },
   "outputs": [],
   "source": [
    "import pandas as pd\n",
    "import numpy as np\n",
    "import matplotlib.pyplot as plt\n",
    "from tqdm import tqdm\n",
    "from sklearn.metrics import accuracy_score\n",
    "import lightgbm as lgb\n",
    "from xgboost import XGBClassifier, XGBRegressor\n",
    "from sklearn.ensemble import RandomForestClassifier, RandomForestRegressor, ExtraTreesClassifier\n",
    "from sklearn.linear_model import LogisticRegression\n",
    "from sklearn.preprocessing import Imputer, MinMaxScaler\n",
    "from catboost import CatBoostClassifier, CatBoostRegressor\n",
    "from sklearn.neighbors import KNeighborsClassifier\n",
    "import utils\n",
    "from importlib import reload\n",
    "\n",
    "reload(utils)\n",
    "%matplotlib inline"
   ]
  },
  {
   "cell_type": "code",
   "execution_count": 7,
   "metadata": {
    "collapsed": true,
    "deletable": true,
    "editable": true
   },
   "outputs": [],
   "source": [
    "import numpy as np\n",
    "import pandas as pd\n",
    "from tqdm import tqdm\n",
    "\n",
    "\n",
    "def split_data_targets(df):\n",
    "    df_train = df.iloc[:, :-7]\n",
    "    targets_train = get_first_buying(df.iloc[:, -7:])\n",
    "    return df_train, targets_train\n",
    "\n",
    "\n",
    "def calc_accuracy(y, answers):\n",
    "    return (y == np.round(np.minimum(np.maximum(answers, 0), 16))).sum() / len(y)\n",
    "\n",
    "\n",
    "def get_weights(columns, delta=1.2):\n",
    "    n = max(columns) + 1\n",
    "    weeks = (np.arange(n) - n % 7 + 7) // 7 + 1\n",
    "    weights = (weeks / len(weeks))**delta\n",
    "    return (weights / weights.sum())[columns]\n",
    "\n",
    "\n",
    "def get_fraction(df, numbers={0, 1, 2, 3, 4, 5, 6, 7, 8, 9, 10, 11}, delta=1.2):\n",
    "    fractions = []\n",
    "    for i in numbers:\n",
    "        fractions.append(((df == i) * get_weights(df.columns.values, delta=delta)).sum(axis=1))\n",
    "    return pd.DataFrame(pd.concat(fractions, axis=1))\n",
    "\n",
    "\n",
    "def get_first_buying(df):\n",
    "    first_nonzero = pd.Series(0, index=df.index)\n",
    "    _df = df[df.sum(axis=1) != 0]\n",
    "    mask = (_df.values != 0)\n",
    "    x_nonzero = _df.values[mask]\n",
    "    i_nonzero = [0] + mask.sum(axis=1).cumsum()[:-1].tolist()\n",
    "    first_nonzero.loc[_df.index] = x_nonzero[i_nonzero]\n",
    "    return first_nonzero\n",
    "\n",
    "\n",
    "def get_last_buying_day(df):\n",
    "    df_reverse = df.iloc[:, ::-1]\n",
    "    df_days = np.repeat(\n",
    "        np.array(df_reverse.columns).reshape(1, -1), repeats=len(df), axis=0)\n",
    "    df_days = df_days * (df_reverse != 0)\n",
    "    first_nonzero = pd.Series(0, index=df.index)\n",
    "    _df = df_days[df_days.sum(axis=1) != 0]\n",
    "    mask = (_df.values != 0)\n",
    "    x_nonzero = _df.values[mask]\n",
    "    i_nonzero = [0] + mask.sum(axis=1).cumsum()[:-1].tolist()\n",
    "    first_nonzero.loc[_df.index] = x_nonzero[i_nonzero]\n",
    "    return max(df_reverse.columns) - first_nonzero + 1\n",
    "\n",
    "\n",
    "def generate_full_factors(df, full_delta_mean=0.2, full_delta_std=1.0, full_delta_frac=2.2):\n",
    "    columns = [\n",
    "        'full_mean_weight', 'full_std_weight', 'full_frac_0_weight',\n",
    "        'full_frac_1_weight', 'full_frac_2_weight', 'full_frac_3_weight',\n",
    "        'full_frac_4_weight', 'full_frac_5_weight', 'full_frac_6_weight',\n",
    "        'full_frac_7_weight', 'full_frac_8_weight', 'full_frac_9_weight',\n",
    "        'full_frac_10_weight', 'full_frac_11_weight', 'full_nonzero_mode'\n",
    "    ]\n",
    "    df_frac = get_fraction(df, delta=full_delta_frac)\n",
    "    df_factor = pd.concat(\n",
    "        [(df * get_weights(df.columns.values, delta=full_delta_mean)).mean(axis=1),\n",
    "         (df * get_weights(df.columns.values, delta=full_delta_std)).std(axis=1), df_frac,\n",
    "         pd.DataFrame(np.argmax(df_frac.values[:, 1:], axis=1) + 1, index=df.index)], axis=1)\n",
    "    df_factor.columns = columns\n",
    "    return df_factor\n",
    "\n",
    "\n",
    "def generate_nonzero_factors(df, nonzero_delta=1.6):\n",
    "    columns = ['nonzero_mean_weight']\n",
    "    df_nonzero = df[df != 0]\n",
    "    weights = get_weights(df_nonzero.columns.values, delta=nonzero_delta)\n",
    "    df_factor = pd.concat([(df_nonzero * weights).mean(axis=1)], axis=1)\n",
    "    df_factor.columns = columns\n",
    "    return df_factor\n",
    "\n",
    "\n",
    "def generate_n_last_week_factors(df, n=1):\n",
    "    columns = [\n",
    "        \"last_week_{}_mean\".format(n),\n",
    "        \"last_week_{}_noncount\".format(n),\n",
    "        \"last_week_{}_nonzero_mean\".format(n),\n",
    "        \"last_week_{}_nonzero_mode\".format(n),\n",
    "        \"last_week_{}_first_expense\".format(n),\n",
    "    ]\n",
    "    max_date = max(df.columns)\n",
    "    df_7n = df.loc[:, max_date - 7 * n + 1:max_date - 7 * (n - 1)]\n",
    "    df_frac = get_fraction(df_7n)\n",
    "    df_factor = pd.concat(\n",
    "        [\n",
    "            df_7n.mean(axis=1),\n",
    "            (df_7n == 0).sum(axis=1),\n",
    "            df_7n[df_7n != 0].mean(axis=1),\n",
    "            pd.DataFrame(np.argmax(df_frac.values[:, 1:], axis=1) + 1, index=df.index),\n",
    "            get_first_buying(df_7n),\n",
    "        ],\n",
    "        axis=1)\n",
    "    df_factor.columns = columns\n",
    "    return df_factor\n",
    "\n",
    "\n",
    "def generate_first_expense_factors(df, first_delta_frac=0.0, first_delta_mean=0.2):\n",
    "    columns = [\n",
    "        \"first_expense_mean\", 'first_expense_frac_0_weight',\n",
    "        'first_expense_frac_1_weight', 'first_expense_frac_2_weight',\n",
    "        'first_expense_frac_3_weight', 'first_expense_frac_4_weight',\n",
    "        'first_expense_frac_5_weight', 'first_expense_frac_6_weight',\n",
    "        'first_expense_frac_7_weight', 'first_expense_frac_8_weight',\n",
    "        \"first_expense_nonzero_mean\", \"first_expense_nonzero_mode\"\n",
    "    ]\n",
    "    firsts = []\n",
    "    for week in (df.columns[len(df.columns) % 7::].values.reshape(-1, 7)):\n",
    "        df_week = df.loc[:, week]\n",
    "        firsts.append(get_first_buying(df_week))\n",
    "    df_expense = pd.DataFrame(pd.concat(firsts, axis=1))\n",
    "    df_frac = get_fraction(df_expense, delta=first_delta_frac)\n",
    "    df_factor = pd.concat(\n",
    "        [\n",
    "            (df_expense * get_weights(df_expense.columns.values, delta=first_delta_mean)).mean(axis=1),\n",
    "            get_fraction(df_expense, {0, 1, 2, 3, 4, 5, 6, 7, 8}),\n",
    "            df_expense[df_expense != 0].mean(axis=1),\n",
    "            pd.DataFrame(np.argmax(df_frac.values[:, 1:], axis=1) + 1, index=df.index)\n",
    "        ], axis=1\n",
    "    )\n",
    "    df_factor.columns = columns\n",
    "    return df_factor\n",
    "\n",
    "\n",
    "def generate_prob_week_factors(df, prob_delta=0.2):\n",
    "    columns = [\n",
    "        \"week_prob_1\", \"week_prob_2\", \"week_prob_3\", \"week_prob_4\",\n",
    "        \"week_prob_5\", \"week_prob_6\", \"week_prob_7\"\n",
    "    ]\n",
    "    weeks = []\n",
    "    df_weight = (df != 0) * get_weights(df.columns.values, delta=prob_delta)\n",
    "    for n in (np.arange(1, 8)):\n",
    "        df_week = df_weight.loc[:, n % 7 + len(df_weight.columns) % 7::7]\n",
    "        weeks.append(df_week.sum(axis=1))\n",
    "    df_week = pd.DataFrame(pd.concat(weeks, axis=1))\n",
    "    prob = df_week.values / (df_week.sum(axis=1).values.reshape(-1, 1) + 1e-6)\n",
    "    prob_first = prob * np.concatenate([np.ones((len(prob), 1)), np.cumprod(1 - prob, axis=1)[:, :-1]], axis=1)\n",
    "    df_factor = pd.DataFrame(prob_first, index=df.index)\n",
    "    df_factor.columns = columns\n",
    "    return df_factor\n",
    "\n",
    "\n",
    "def generate_last_buying_factors(df):\n",
    "    columns = [\"last_buying_sum\",\n",
    "               \"last_buying_day\",\n",
    "               \"last_buying_day_3\",\n",
    "               \"last_buying_day_4\",\n",
    "               \"last_buying_day_5\",\n",
    "               \"last_buying_day_6\",\n",
    "               \"last_buying_day_7\",\n",
    "               \"last_buying_day_8\"]\n",
    "    df_factor = pd.concat(\n",
    "        [\n",
    "            get_first_buying(df.iloc[:, ::-1]),\n",
    "            get_last_buying_day(df),\n",
    "            get_last_buying_day(df * (df == 3)),\n",
    "            get_last_buying_day(df * (df == 4)),\n",
    "            get_last_buying_day(df * (df == 5)),\n",
    "            get_last_buying_day(df * (df == 6)),\n",
    "            get_last_buying_day(df * (df == 7)),\n",
    "            get_last_buying_day(df * (df == 8))\n",
    "         ], axis=1\n",
    "    )\n",
    "    \n",
    "    df_factor.columns = columns\n",
    "    return df_factor\n",
    "\n",
    "\n",
    "def generate_factors(\n",
    "        df,\n",
    "        full_delta_mean=1.2, full_delta_std=0.6, full_delta_frac=1.2,\n",
    "        nonzero_delta=1.2,\n",
    "        first_delta_frac=0.5, first_delta_mean=0.2,\n",
    "        prob_delta=0.2\n",
    "):\n",
    "    with tqdm(total=8) as bar:\n",
    "        df_full = generate_full_factors(df, full_delta_mean, full_delta_std, full_delta_frac)\n",
    "        bar.update()\n",
    "        df_nonzero = generate_nonzero_factors(df, nonzero_delta)\n",
    "        bar.update()\n",
    "        df_1_last_week = generate_n_last_week_factors(df)\n",
    "        bar.update()\n",
    "        df_2_last_week = generate_n_last_week_factors(df, n=2)\n",
    "        bar.update()\n",
    "        df_3_last_week = generate_n_last_week_factors(df, n=3)\n",
    "        bar.update()\n",
    "        df_first_expense = generate_first_expense_factors(df, first_delta_frac, first_delta_mean)\n",
    "        bar.update()\n",
    "        df_prob_week = generate_prob_week_factors(df, prob_delta)\n",
    "        bar.update()\n",
    "        df_last_buying = generate_last_buying_factors(df)\n",
    "        bar.update()\n",
    "    df_factor = pd.concat(\n",
    "        [\n",
    "            df_full, df_nonzero, df_1_last_week, df_2_last_week,\n",
    "            df_3_last_week, df_first_expense, df_prob_week, df_last_buying\n",
    "        ],\n",
    "        axis=1)\n",
    "    return df_factor\n"
   ]
  },
  {
   "cell_type": "markdown",
   "metadata": {
    "collapsed": false,
    "deletable": true,
    "editable": true
   },
   "source": [
    "### загрузка"
   ]
  },
  {
   "cell_type": "code",
   "execution_count": 8,
   "metadata": {
    "collapsed": false,
    "deletable": true,
    "editable": true
   },
   "outputs": [],
   "source": [
    "df_data = pd.read_csv(\"data/train2.csv.xls\").pivot(index='id', columns='date', values='sum').fillna(0)"
   ]
  },
  {
   "cell_type": "markdown",
   "metadata": {
    "deletable": true,
    "editable": true
   },
   "source": [
    "### очистка"
   ]
  },
  {
   "cell_type": "code",
   "execution_count": 9,
   "metadata": {
    "collapsed": true,
    "deletable": true,
    "editable": true
   },
   "outputs": [],
   "source": [
    "df_data.loc[:, 269] = df_data.loc[:, 270]"
   ]
  },
  {
   "cell_type": "markdown",
   "metadata": {
    "deletable": true,
    "editable": true
   },
   "source": [
    "### разделение"
   ]
  },
  {
   "cell_type": "code",
   "execution_count": 10,
   "metadata": {
    "collapsed": false,
    "deletable": true,
    "editable": true
   },
   "outputs": [],
   "source": [
    "df_test, targets_test = split_data_targets(df_data)\n",
    "df_train, targets_train = split_data_targets(df_test)\n",
    "df_train_2, targets_train_2 = split_data_targets(df_train)\n",
    "df_train_3, targets_train_3 = split_data_targets(df_train_2)\n",
    "df_train_4, targets_train_4 = split_data_targets(df_train_3)"
   ]
  },
  {
   "cell_type": "markdown",
   "metadata": {
    "deletable": true,
    "editable": true
   },
   "source": [
    "### извлечение факторов"
   ]
  },
  {
   "cell_type": "code",
   "execution_count": 11,
   "metadata": {
    "collapsed": false,
    "deletable": true,
    "editable": true,
    "scrolled": false
   },
   "outputs": [
    {
     "name": "stderr",
     "output_type": "stream",
     "text": [
      "100%|██████████| 8/8 [00:20<00:00,  4.28s/it]\n"
     ]
    }
   ],
   "source": [
    "X_train = generate_factors(df_train)\n",
    "y_train = targets_train.values"
   ]
  },
  {
   "cell_type": "code",
   "execution_count": 12,
   "metadata": {
    "collapsed": false,
    "deletable": true,
    "editable": true,
    "scrolled": false
   },
   "outputs": [
    {
     "name": "stderr",
     "output_type": "stream",
     "text": [
      "100%|██████████| 8/8 [00:21<00:00,  4.34s/it]\n"
     ]
    }
   ],
   "source": [
    "X_train_2 = generate_factors(df_train_2)\n",
    "y_train_2 = targets_train_2.values"
   ]
  },
  {
   "cell_type": "code",
   "execution_count": 13,
   "metadata": {
    "collapsed": false,
    "deletable": true,
    "editable": true,
    "scrolled": true
   },
   "outputs": [
    {
     "name": "stderr",
     "output_type": "stream",
     "text": [
      "100%|██████████| 8/8 [00:20<00:00,  4.15s/it]\n"
     ]
    }
   ],
   "source": [
    "X_train_3 = generate_factors(df_train_3)\n",
    "y_train_3 = targets_train_3.values"
   ]
  },
  {
   "cell_type": "code",
   "execution_count": 14,
   "metadata": {
    "collapsed": false,
    "deletable": true,
    "editable": true
   },
   "outputs": [
    {
     "name": "stderr",
     "output_type": "stream",
     "text": [
      "100%|██████████| 8/8 [00:19<00:00,  3.95s/it]\n"
     ]
    }
   ],
   "source": [
    "X_train_4 = generate_factors(df_train_4)\n",
    "y_train_4 = targets_train_4.values"
   ]
  },
  {
   "cell_type": "code",
   "execution_count": 15,
   "metadata": {
    "collapsed": false,
    "deletable": true,
    "editable": true,
    "scrolled": true
   },
   "outputs": [
    {
     "name": "stderr",
     "output_type": "stream",
     "text": [
      "100%|██████████| 8/8 [00:20<00:00,  4.22s/it]\n"
     ]
    }
   ],
   "source": [
    "X_test = generate_factors(df_test)\n",
    "y_test = targets_test.values"
   ]
  },
  {
   "cell_type": "code",
   "execution_count": 16,
   "metadata": {
    "collapsed": false,
    "deletable": true,
    "editable": true,
    "scrolled": true
   },
   "outputs": [
    {
     "name": "stderr",
     "output_type": "stream",
     "text": [
      "100%|██████████| 8/8 [00:21<00:00,  4.44s/it]\n"
     ]
    }
   ],
   "source": [
    "X = generate_factors(df_data)"
   ]
  },
  {
   "cell_type": "code",
   "execution_count": 1,
   "metadata": {
    "collapsed": false,
    "deletable": true,
    "editable": true
   },
   "outputs": [
    {
     "ename": "NameError",
     "evalue": "name 'lgb' is not defined",
     "output_type": "error",
     "traceback": [
      "\u001b[0;31m---------------------------------------------------------------------------\u001b[0m",
      "\u001b[0;31mNameError\u001b[0m                                 Traceback (most recent call last)",
      "\u001b[0;32m<ipython-input-1-100af7c7f425>\u001b[0m in \u001b[0;36m<module>\u001b[0;34m()\u001b[0m\n\u001b[0;32m----> 1\u001b[0;31m \u001b[0mgbm_4\u001b[0m \u001b[0;34m=\u001b[0m \u001b[0mlgb\u001b[0m\u001b[0;34m.\u001b[0m\u001b[0mLGBMClassifier\u001b[0m\u001b[0;34m(\u001b[0m\u001b[0mn_estimators\u001b[0m\u001b[0;34m=\u001b[0m\u001b[0;36m1000\u001b[0m\u001b[0;34m,\u001b[0m \u001b[0mmax_depth\u001b[0m\u001b[0;34m=\u001b[0m\u001b[0;36m6\u001b[0m\u001b[0;34m,\u001b[0m \u001b[0mlearning_rate\u001b[0m\u001b[0;34m=\u001b[0m\u001b[0;36m0.006\u001b[0m\u001b[0;34m,\u001b[0m \u001b[0mnum_leaves\u001b[0m\u001b[0;34m=\u001b[0m\u001b[0;36m31\u001b[0m\u001b[0;34m,\u001b[0m \u001b[0mn_jobs\u001b[0m\u001b[0;34m=\u001b[0m\u001b[0;34m-\u001b[0m\u001b[0;36m1\u001b[0m\u001b[0;34m,\u001b[0m \u001b[0mrandom_state\u001b[0m\u001b[0;34m=\u001b[0m\u001b[0;36m1134\u001b[0m\u001b[0;34m)\u001b[0m\u001b[0;34m\u001b[0m\u001b[0m\n\u001b[0m\u001b[1;32m      2\u001b[0m \u001b[0mgbm_4\u001b[0m\u001b[0;34m.\u001b[0m\u001b[0mfit\u001b[0m\u001b[0;34m(\u001b[0m\u001b[0mX_train_4\u001b[0m\u001b[0;34m.\u001b[0m\u001b[0mvalues\u001b[0m\u001b[0;34m,\u001b[0m \u001b[0my_train_4\u001b[0m\u001b[0;34m)\u001b[0m\u001b[0;34m\u001b[0m\u001b[0m\n\u001b[1;32m      3\u001b[0m \u001b[0;34m\u001b[0m\u001b[0m\n\u001b[1;32m      4\u001b[0m \u001b[0mgbm_3\u001b[0m \u001b[0;34m=\u001b[0m \u001b[0mlgb\u001b[0m\u001b[0;34m.\u001b[0m\u001b[0mLGBMClassifier\u001b[0m\u001b[0;34m(\u001b[0m\u001b[0mn_estimators\u001b[0m\u001b[0;34m=\u001b[0m\u001b[0;36m1000\u001b[0m\u001b[0;34m,\u001b[0m \u001b[0mmax_depth\u001b[0m\u001b[0;34m=\u001b[0m\u001b[0;36m6\u001b[0m\u001b[0;34m,\u001b[0m \u001b[0mlearning_rate\u001b[0m\u001b[0;34m=\u001b[0m\u001b[0;36m0.006\u001b[0m\u001b[0;34m,\u001b[0m \u001b[0mnum_leaves\u001b[0m\u001b[0;34m=\u001b[0m\u001b[0;36m31\u001b[0m\u001b[0;34m,\u001b[0m \u001b[0mn_jobs\u001b[0m\u001b[0;34m=\u001b[0m\u001b[0;34m-\u001b[0m\u001b[0;36m1\u001b[0m\u001b[0;34m,\u001b[0m \u001b[0mrandom_state\u001b[0m\u001b[0;34m=\u001b[0m\u001b[0;36m1134\u001b[0m\u001b[0;34m)\u001b[0m\u001b[0;34m\u001b[0m\u001b[0m\n\u001b[1;32m      5\u001b[0m \u001b[0mgbm_3\u001b[0m\u001b[0;34m.\u001b[0m\u001b[0mfit\u001b[0m\u001b[0;34m(\u001b[0m\u001b[0mX_train_3\u001b[0m\u001b[0;34m.\u001b[0m\u001b[0mvalues\u001b[0m\u001b[0;34m,\u001b[0m \u001b[0my_train_3\u001b[0m\u001b[0;34m)\u001b[0m\u001b[0;34m\u001b[0m\u001b[0m\n",
      "\u001b[0;31mNameError\u001b[0m: name 'lgb' is not defined"
     ]
    }
   ],
   "source": [
    "gbm_4 = lgb.LGBMClassifier(n_estimators=500, max_depth=6, learning_rate=0.01, num_leaves=31, n_jobs=-1, random_state=1134)\n",
    "gbm_4.fit(X_train_4.values, y_train_4)\n",
    "\n",
    "gbm_3 = lgb.LGBMClassifier(n_estimators=500, max_depth=6, learning_rate=0.01, num_leaves=31, n_jobs=-1, random_state=1134)\n",
    "gbm_3.fit(X_train_3.values, y_train_3)\n",
    "\n",
    "gbm_2 = lgb.LGBMClassifier(n_estimators=500, max_depth=6, learning_rate=0.01, num_leaves=31, n_jobs=-1, random_state=1134)\n",
    "gbm_2.fit(X_train_2.values, y_train_2)\n",
    "\n",
    "gbm_1 = lgb.LGBMClassifier(n_estimators=500, max_depth=6, learning_rate=0.01, num_leaves=31, n_jobs=-1, random_state=1134)\n",
    "gbm_1.fit(X_train.values, y_train)"
   ]
  },
  {
   "cell_type": "code",
   "execution_count": 18,
   "metadata": {
    "collapsed": false,
    "deletable": true,
    "editable": true
   },
   "outputs": [
    {
     "name": "stdout",
     "output_type": "stream",
     "text": [
      "0.399\n",
      "0.399109090909\n",
      "0.399927272727\n",
      "0.398218181818\n"
     ]
    }
   ],
   "source": [
    "gbm_preds_test_4 = gbm_4.predict_proba(X_test.values)\n",
    "print(utils.calc_accuracy(y_test, np.argmax(gbm_preds_test_4, axis=1)))\n",
    "\n",
    "gbm_preds_test_3 = gbm_3.predict_proba(X_test.values)\n",
    "print(utils.calc_accuracy(y_test, np.argmax(gbm_preds_test_3, axis=1)))\n",
    "\n",
    "gbm_preds_test_2 = gbm_2.predict_proba(X_test.values)\n",
    "print(utils.calc_accuracy(y_test, np.argmax(gbm_preds_test_2, axis=1)))\n",
    "\n",
    "gbm_preds_test_1 = gbm_1.predict_proba(X_test.values)\n",
    "print(utils.calc_accuracy(y_test, np.argmax(gbm_preds_test_1, axis=1)))"
   ]
  },
  {
   "cell_type": "code",
   "execution_count": 32,
   "metadata": {
    "collapsed": true,
    "deletable": true,
    "editable": true
   },
   "outputs": [],
   "source": [
    "gbm_0 = lgb.LGBMClassifier(n_estimators=500, max_depth=6, learning_rate=0.01, num_leaves=31, n_jobs=-1)\n",
    "gbm_0.fit(X_test.values, y_test)\n",
    "\n",
    "gbm_preds_4 = gbm_4.predict_proba(X.values)\n",
    "gbm_preds_3 = gbm_3.predict_proba(X.values)\n",
    "gbm_preds_2 = gbm_2.predict_proba(X.values)\n",
    "gbm_preds_1 = gbm_1.predict_proba(X.values)\n",
    "gbm_preds_0 = gbm_0.predict_proba(X.values)"
   ]
  },
  {
   "cell_type": "code",
   "execution_count": 33,
   "metadata": {
    "collapsed": false,
    "deletable": true,
    "editable": true
   },
   "outputs": [],
   "source": [
    "p0 = gbm_preds_0[:, :11]\n",
    "p1 = gbm_preds_1[:, :11]\n",
    "p2 = gbm_preds_2[:, :11]\n",
    "p3 = gbm_preds_3[:, :11]\n",
    "p4 = gbm_preds_4[:, :11]\n",
    "p = 0.5 * p0 + 0.3 * p1 + 0.3 * p2 + 0.05 * p3 + 0.05 * p4"
   ]
  },
  {
   "cell_type": "code",
   "execution_count": 42,
   "metadata": {
    "collapsed": false,
    "deletable": true,
    "editable": true
   },
   "outputs": [],
   "source": [
    "preds = np.argmax(p, axis=1)"
   ]
  },
  {
   "cell_type": "code",
   "execution_count": 34,
   "metadata": {
    "collapsed": true,
    "deletable": true,
    "editable": true
   },
   "outputs": [],
   "source": [
    "pdf = pd.DataFrame(p)\n",
    "pdf.to_csv(\"notebooks/4lgbm_500.csv\", index=False)"
   ]
  },
  {
   "cell_type": "code",
   "execution_count": 35,
   "metadata": {
    "collapsed": true,
    "deletable": true,
    "editable": true
   },
   "outputs": [],
   "source": [
    "sub = pd.DataFrame([df_data.index, np.argmax(p, axis=1)]).T.astype(int)\n",
    "sub.columns = ['id', 'sum']\n",
    "sub.astype(int).to_csv(\"sub_4lgbm_500.csv\", index=False)"
   ]
  },
  {
   "cell_type": "code",
   "execution_count": null,
   "metadata": {
    "collapsed": true,
    "deletable": true,
    "editable": true
   },
   "outputs": [],
   "source": []
  }
 ],
 "metadata": {
  "kernelspec": {
   "display_name": "Python 3",
   "language": "python",
   "name": "python3"
  },
  "language_info": {
   "codemirror_mode": {
    "name": "ipython",
    "version": 3
   },
   "file_extension": ".py",
   "mimetype": "text/x-python",
   "name": "python",
   "nbconvert_exporter": "python",
   "pygments_lexer": "ipython3",
   "version": "3.6.0"
  },
  "toc": {
   "colors": {
    "hover_highlight": "#DAA520",
    "navigate_num": "#000000",
    "navigate_text": "#333333",
    "running_highlight": "#FF0000",
    "selected_highlight": "#FFD700",
    "sidebar_border": "#EEEEEE",
    "wrapper_background": "#FFFFFF"
   },
   "moveMenuLeft": true,
   "nav_menu": {
    "height": "12px",
    "width": "252px"
   },
   "navigate_menu": true,
   "number_sections": true,
   "sideBar": true,
   "threshold": 4,
   "toc_cell": false,
   "toc_section_display": "block",
   "toc_window_display": false,
   "widenNotebook": false
  },
  "varInspector": {
   "cols": {
    "lenName": 16,
    "lenType": 16,
    "lenVar": 40
   },
   "kernels_config": {
    "python": {
     "delete_cmd_postfix": "",
     "delete_cmd_prefix": "del ",
     "library": "var_list.py",
     "varRefreshCmd": "print(var_dic_list())"
    },
    "r": {
     "delete_cmd_postfix": ") ",
     "delete_cmd_prefix": "rm(",
     "library": "var_list.r",
     "varRefreshCmd": "cat(var_dic_list()) "
    }
   },
   "types_to_exclude": [
    "module",
    "function",
    "builtin_function_or_method",
    "instance",
    "_Feature"
   ],
   "window_display": false
  }
 },
 "nbformat": 4,
 "nbformat_minor": 2
}
