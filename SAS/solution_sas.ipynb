{
 "cells": [
  {
   "cell_type": "markdown",
   "metadata": {},
   "source": [
    "# Решение контеста https://sascompetitions.ru/competitions/forecasting-the-probability-of-non-repayment-of-loan\n",
    "\n",
    "### Амир Мирас Сабыргалиулы"
   ]
  },
  {
   "cell_type": "code",
   "execution_count": 1,
   "metadata": {
    "slideshow": {
     "slide_type": "slide"
    }
   },
   "outputs": [],
   "source": [
    "import numpy as np\n",
    "import pandas as pd\n",
    "import pandas as pd\n",
    "from xgboost import XGBClassifier\n",
    "from datetime import datetime\n",
    "from tqdm import tqdm_notebook\n",
    "import re\n",
    "from sklearn.model_selection import cross_val_score, cross_val_predict\n",
    "import  matplotlib.pyplot as plt\n",
    "from sklearn.metrics import roc_auc_score\n",
    "\n",
    "%matplotlib inline"
   ]
  },
  {
   "cell_type": "markdown",
   "metadata": {},
   "source": [
    "### Вспомогательные патчи"
   ]
  },
  {
   "cell_type": "code",
   "execution_count": 2,
   "metadata": {},
   "outputs": [],
   "source": [
    "def df_only(df, *patterns):\n",
    "    columns = set()\n",
    "    for pattern in patterns:\n",
    "        columns |= set([x for x in df.columns if re.search(\"^{}\".format(pattern), x)])\n",
    "    return df[list(columns)]\n",
    "\n",
    "def df_omit(df, *patterns):\n",
    "    columns = set(df.columns)\n",
    "    for pattern in patterns:\n",
    "        columns &= set([x for x in df.columns if not bool(re.search(\"^{}\".format(pattern), x))])\n",
    "    return df[list(columns)]\n",
    "\n",
    "\n",
    "pd.DataFrame.only = df_only\n",
    "pd.DataFrame.omit = df_omit"
   ]
  },
  {
   "cell_type": "markdown",
   "metadata": {},
   "source": [
    "### Загрузка данных и препроцессинг"
   ]
  },
  {
   "cell_type": "code",
   "execution_count": 3,
   "metadata": {},
   "outputs": [
    {
     "name": "stdout",
     "output_type": "stream",
     "text": [
      "CPU times: user 31.4 s, sys: 732 ms, total: 32.1 s\n",
      "Wall time: 32.9 s\n"
     ]
    }
   ],
   "source": [
    "%%time\n",
    "parse_dates = ['DTIME_CREDIT', 'DTIME_CREDIT_ENDDATE',\n",
    "    'DTIME_CREDIT_ENDDATE_FACT', 'DTIME_CREDIT_UPDATE']\n",
    "\n",
    "data = pd.read_csv('sas_test.csv',\n",
    "    parse_dates=parse_dates, dayfirst=True, infer_datetime_format=True).append(\n",
    "    pd.read_csv('sas_train.csv',\n",
    "    parse_dates=parse_dates, dayfirst=True, infer_datetime_format=True))\n",
    "data.reset_index(drop=True, inplace=True)"
   ]
  },
  {
   "cell_type": "code",
   "execution_count": 4,
   "metadata": {
    "scrolled": false
   },
   "outputs": [
    {
     "name": "stdout",
     "output_type": "stream",
     "text": [
      "CPU times: user 980 ms, sys: 60 ms, total: 1.04 s\n",
      "Wall time: 1.04 s\n"
     ]
    }
   ],
   "source": [
    "%%time\n",
    "sorts = data['DTIME_CREDIT'].sort_values()\n",
    "bad_idxs = sorts.index[:3]\n",
    "true_idx = sorts.index[3]\n",
    "data.loc[bad_idxs, 'DTIME_CREDIT'] = data.loc[true_idx, 'DTIME_CREDIT']\n",
    "\n",
    "sorts = data['DTIME_CREDIT_UPDATE'].sort_values(ascending=False)\n",
    "bad_idxs = sorts.index[:2]\n",
    "true_idx = sorts.index[3]\n",
    "data.loc[bad_idxs, 'DTIME_CREDIT_UPDATE'] = data.loc[true_idx, 'DTIME_CREDIT_UPDATE']"
   ]
  },
  {
   "cell_type": "code",
   "execution_count": 5,
   "metadata": {},
   "outputs": [
    {
     "name": "stdout",
     "output_type": "stream",
     "text": [
      "CPU times: user 4.87 s, sys: 88 ms, total: 4.96 s\n",
      "Wall time: 4.96 s\n"
     ]
    }
   ],
   "source": [
    "%%time\n",
    "data['SK_DATE_DECISION'] = data['SK_DATE_DECISION'].apply(\n",
    "        lambda x: datetime(int(str(x)[:4]), int(str(x)[4:6]), int(str(x)[6:]))\n",
    ")"
   ]
  },
  {
   "cell_type": "markdown",
   "metadata": {},
   "source": [
    "### Тэгирование столбцов для удобства"
   ]
  },
  {
   "cell_type": "code",
   "execution_count": 6,
   "metadata": {},
   "outputs": [],
   "source": [
    "rename_columns = {\n",
    "    'AMT_ANNUITY': 'AMT:ANNUITY',\n",
    "    'AMT_CREDIT_MAX_OVERDUE': 'AMT:CREDIT_MAX_OVERDUE',\n",
    "    'AMT_CREDIT_SUM': 'AMT:CREDIT_SUM',\n",
    "    'AMT_CREDIT_SUM_DEBT': 'AMT:CREDIT_SUM_DEBT',\n",
    "    'AMT_CREDIT_SUM_LIMIT': 'AMT:CREDIT_SUM_LIMIT',\n",
    "    'AMT_CREDIT_SUM_OVERDUE': 'AMT:CREDIT_SUM_OVERDUE',\n",
    "    'AMT_REQ_SOURCE_DAY': 'AMT:REQ_SOURCE_DAY',\n",
    "    'AMT_REQ_SOURCE_HOUR': 'AMT:REQ_SOURCE_HOUR',\n",
    "    'AMT_REQ_SOURCE_MON': 'AMT:REQ_SOURCE_MON',\n",
    "    'AMT_REQ_SOURCE_QRT': 'AMT:REQ_SOURCE_QRT',\n",
    "    'AMT_REQ_SOURCE_WEEK': 'AMT:REQ_SOURCE_WEEK',\n",
    "    'AMT_REQ_SOURCE_YEAR': 'AMT:REQ_SOURCE_YEAR',\n",
    "    'CNT_CREDIT_PROLONG': 'CNT:CREDIT_PROLONG',\n",
    "    'CREDIT_ACTIVE': 'CAT:CREDIT_ACTIVE',\n",
    "    'CREDIT_COLLATERAL': 'CAT:CREDIT_COLLATERAL',\n",
    "    'CREDIT_CURRENCY': 'CAT:CREDIT_CURRENCY',\n",
    "    'CREDIT_DAY_OVERDUE': 'CREDIT_DAY_OVERDUE',\n",
    "    'CREDIT_DELAY30': 'CREDIT_DELAY30',\n",
    "    'CREDIT_DELAY5': 'CREDIT_DELAY5',\n",
    "    'CREDIT_DELAY60': 'CREDIT_DELAY60',\n",
    "    'CREDIT_DELAY90': 'CREDIT_DELAY90',\n",
    "    'CREDIT_DELAY_MORE': 'CREDIT_DELAY_MORE',\n",
    "    'CREDIT_FACILITY': 'CAT:CREDIT_FACILITY',\n",
    "    'CREDIT_SUM_TYPE': 'CAT:CREDIT_SUM_TYPE',\n",
    "    'CREDIT_TYPE': 'CAT:CREDIT_TYPE',\n",
    "    'DEF': 'DEF',\n",
    "    'DTIME_CREDIT': 'DATE:DTIME_CREDIT',\n",
    "    'DTIME_CREDIT_ENDDATE': 'DATE:DTIME_CREDIT_ENDDATE',\n",
    "    'DTIME_CREDIT_ENDDATE_FACT': 'DATE:DTIME_CREDIT_ENDDATE_FACT',\n",
    "    'DTIME_CREDIT_UPDATE': 'DATE:DTIME_CREDIT_UPDATE',\n",
    "    'ID': 'ID',\n",
    "    'NUM_SOURCE': 'CAT:NUM_SOURCE',\n",
    "    'SK_DATE_DECISION': 'DATE:SK_DATE_DECISION',\n",
    "    'TEXT_PAYMENT_DISCIPLINE': 'TEXT:PAYMENT_DISCIPLINE'\n",
    "}"
   ]
  },
  {
   "cell_type": "code",
   "execution_count": 7,
   "metadata": {},
   "outputs": [],
   "source": [
    "data = data.rename(columns=rename_columns)"
   ]
  },
  {
   "cell_type": "markdown",
   "metadata": {},
   "source": [
    "### Фичи по датам"
   ]
  },
  {
   "cell_type": "code",
   "execution_count": 8,
   "metadata": {},
   "outputs": [
    {
     "data": {
      "text/html": [
       "<p>Failed to display Jupyter Widget of type <code>HBox</code>.</p>\n",
       "<p>\n",
       "  If you're reading this message in Jupyter Notebook or JupyterLab, it may mean\n",
       "  that the widgets JavaScript is still loading. If this message persists, it\n",
       "  likely means that the widgets JavaScript library is either not installed or\n",
       "  not enabled. See the <a href=\"https://ipywidgets.readthedocs.io/en/stable/user_install.html\">Jupyter\n",
       "  Widgets Documentation</a> for setup instructions.\n",
       "</p>\n",
       "<p>\n",
       "  If you're reading this message in another notebook frontend (for example, a static\n",
       "  rendering on GitHub or <a href=\"https://nbviewer.jupyter.org/\">NBViewer</a>),\n",
       "  it may mean that your frontend doesn't currently support widgets.\n",
       "</p>\n"
      ],
      "text/plain": [
       "HBox(children=(IntProgress(value=0, max=5), HTML(value='')))"
      ]
     },
     "metadata": {},
     "output_type": "execute_result"
    },
    {
     "name": "stdout",
     "output_type": "stream",
     "text": [
      "\n"
     ]
    }
   ],
   "source": [
    "date_columns = data.only('DATE').columns\n",
    "for i, col1 in tqdm_notebook(enumerate(date_columns), total=len(date_columns)):\n",
    "    for j, col2 in enumerate(date_columns):\n",
    "        if i < j:\n",
    "            data[\"DELTA:{}_{}\".format(col1, col2)] = (data[col1] - data[col2]).dt.days"
   ]
  },
  {
   "cell_type": "markdown",
   "metadata": {},
   "source": [
    "### Фичи по тексту"
   ]
  },
  {
   "cell_type": "code",
   "execution_count": 9,
   "metadata": {},
   "outputs": [],
   "source": [
    "from sklearn.feature_extraction.text import CountVectorizer"
   ]
  },
  {
   "cell_type": "code",
   "execution_count": 10,
   "metadata": {},
   "outputs": [],
   "source": [
    "data['TEXT:PAYMENT_DISCIPLINE_REVERSE'] = data['TEXT:PAYMENT_DISCIPLINE'].str[::-1]\n",
    "masks = data['TEXT:PAYMENT_DISCIPLINE_REVERSE'].notnull()\n",
    "vectorizer = CountVectorizer(ngram_range=(1, 2), analyzer='char')\n",
    "data['TEXT:PAYMENT_DISCIPLINE_REVERSE_CLEAR'] = data.loc[\n",
    "    masks, 'TEXT:PAYMENT_DISCIPLINE_REVERSE'].apply(lambda x: re.sub(\"[^0-9]\", \" \", x))"
   ]
  },
  {
   "cell_type": "code",
   "execution_count": 11,
   "metadata": {
    "scrolled": true
   },
   "outputs": [
    {
     "data": {
      "text/plain": [
       "CountVectorizer(analyzer='char', binary=False, decode_error='strict',\n",
       "        dtype=<class 'numpy.int64'>, encoding='utf-8', input='content',\n",
       "        lowercase=True, max_df=1.0, max_features=None, min_df=1,\n",
       "        ngram_range=(1, 2), preprocessor=None, stop_words=None,\n",
       "        strip_accents=None, token_pattern='(?u)\\\\b\\\\w\\\\w+\\\\b',\n",
       "        tokenizer=None, vocabulary=None)"
      ]
     },
     "execution_count": 11,
     "metadata": {},
     "output_type": "execute_result"
    }
   ],
   "source": [
    "vectorizer.fit(data.loc[masks, 'TEXT:PAYMENT_DISCIPLINE_REVERSE_CLEAR'])"
   ]
  },
  {
   "cell_type": "code",
   "execution_count": 12,
   "metadata": {
    "scrolled": true
   },
   "outputs": [],
   "source": [
    "fnames = vectorizer.get_feature_names()\n",
    "use_names = [fnames.index(x) for x in fnames if not (len(x) == 2 and ' ' in x)]"
   ]
  },
  {
   "cell_type": "code",
   "execution_count": 13,
   "metadata": {
    "scrolled": true
   },
   "outputs": [],
   "source": [
    "text_vec = vectorizer.transform(data.loc[\n",
    "    masks, 'TEXT:PAYMENT_DISCIPLINE_REVERSE_CLEAR']).toarray()"
   ]
  },
  {
   "cell_type": "code",
   "execution_count": 14,
   "metadata": {},
   "outputs": [],
   "source": [
    "data_text = pd.DataFrame(\n",
    "    text_vec[:, use_names], \n",
    "    columns=['COUNT:TEXT_{}'.format(x) for x in np.array(fnames)[use_names]],\n",
    "    index=data[masks].index\n",
    ")\n",
    "data = data.join(data_text)"
   ]
  },
  {
   "cell_type": "code",
   "execution_count": 15,
   "metadata": {},
   "outputs": [],
   "source": [
    "def weight_sum_inv(s):\n",
    "    if s == s:\n",
    "        return np.sum(1 / (np.array([x.start() for x in re.finditer('0', s)]) + 1))\n",
    "    else:\n",
    "        return np.nan"
   ]
  },
  {
   "cell_type": "code",
   "execution_count": 16,
   "metadata": {},
   "outputs": [],
   "source": [
    "data['COUNT:TEXT_INV'] = data['TEXT:PAYMENT_DISCIPLINE_REVERSE_CLEAR'].apply(weight_sum_inv)"
   ]
  },
  {
   "cell_type": "code",
   "execution_count": 17,
   "metadata": {},
   "outputs": [],
   "source": [
    "def weight_sum(x):\n",
    "    s0 = str(x).count('0')\n",
    "    s1 = str(x).count('1')\n",
    "    s2 = str(x).count('2')\n",
    "    s3 = str(x).count('3')\n",
    "    s4 = str(x).count('4')\n",
    "    s5 = str(x).count('5')\n",
    "    return s0 + s1 * 3 + s3 * 5 + s4 * 7 + s5 * 9"
   ]
  },
  {
   "cell_type": "code",
   "execution_count": 18,
   "metadata": {},
   "outputs": [],
   "source": [
    "data['COUNT:TEXT_LEN'] = data['TEXT:PAYMENT_DISCIPLINE'].str.len()\n",
    "data['COUNT:TEXT_WEIGHT_SUM'] = data['TEXT:PAYMENT_DISCIPLINE'].apply(weight_sum)"
   ]
  },
  {
   "cell_type": "markdown",
   "metadata": {},
   "source": [
    "### Фичи по времени"
   ]
  },
  {
   "cell_type": "code",
   "execution_count": 19,
   "metadata": {},
   "outputs": [
    {
     "name": "stdout",
     "output_type": "stream",
     "text": [
      "CPU times: user 15.8 s, sys: 228 ms, total: 16 s\n",
      "Wall time: 15.9 s\n"
     ]
    }
   ],
   "source": [
    "%%time\n",
    "data['TIME:SK_DATE_WEEKDAY'] = data['DATE:SK_DATE_DECISION'].apply(lambda x: x.weekday())\n",
    "data['TIME:SK_DATE_DAY'] = data['DATE:SK_DATE_DECISION'].apply(lambda x: x.day)"
   ]
  },
  {
   "cell_type": "code",
   "execution_count": 27,
   "metadata": {
    "scrolled": true
   },
   "outputs": [
    {
     "name": "stdout",
     "output_type": "stream",
     "text": [
      "CPU times: user 30.7 s, sys: 464 ms, total: 31.2 s\n",
      "Wall time: 31.1 s\n"
     ]
    }
   ],
   "source": [
    "%%time\n",
    "data['TIME:DTIME_CREDIT_WEEKDAY'] = data['DATE:DTIME_CREDIT'].apply(lambda x: x.weekday())\n",
    "data['TIME:DTIME_CREDIT_YEAR'] = data['DATE:DTIME_CREDIT'].apply(lambda x: x.year)\n",
    "data['TIME:DTIME_CREDIT_MONTH'] = data['DATE:DTIME_CREDIT'].apply(lambda x: x.month)\n",
    "data['TIME:DTIME_CREDIT_DAY'] = data['DATE:DTIME_CREDIT'].apply(lambda x: x.day)"
   ]
  },
  {
   "cell_type": "markdown",
   "metadata": {},
   "source": [
    "### Категориальные фичи"
   ]
  },
  {
   "cell_type": "code",
   "execution_count": 28,
   "metadata": {},
   "outputs": [],
   "source": [
    "currency2code = {\n",
    "    \"rur\": 0,\n",
    "    \"usd\": 1,\n",
    "    \"eur\": 2,\n",
    "    \"chf\": 3\n",
    "}"
   ]
  },
  {
   "cell_type": "code",
   "execution_count": 29,
   "metadata": {},
   "outputs": [],
   "source": [
    "data['CAT:CREDIT_CURRENCY'] = data['CAT:CREDIT_CURRENCY'].map(currency2code)"
   ]
  },
  {
   "cell_type": "code",
   "execution_count": 32,
   "metadata": {
    "scrolled": true
   },
   "outputs": [
    {
     "data": {
      "text/html": [
       "<p>Failed to display Jupyter Widget of type <code>HBox</code>.</p>\n",
       "<p>\n",
       "  If you're reading this message in Jupyter Notebook or JupyterLab, it may mean\n",
       "  that the widgets JavaScript is still loading. If this message persists, it\n",
       "  likely means that the widgets JavaScript library is either not installed or\n",
       "  not enabled. See the <a href=\"https://ipywidgets.readthedocs.io/en/stable/user_install.html\">Jupyter\n",
       "  Widgets Documentation</a> for setup instructions.\n",
       "</p>\n",
       "<p>\n",
       "  If you're reading this message in another notebook frontend (for example, a static\n",
       "  rendering on GitHub or <a href=\"https://nbviewer.jupyter.org/\">NBViewer</a>),\n",
       "  it may mean that your frontend doesn't currently support widgets.\n",
       "</p>\n"
      ],
      "text/plain": [
       "HBox(children=(IntProgress(value=0, max=9), HTML(value='')))"
      ]
     },
     "metadata": {},
     "output_type": "execute_result"
    },
    {
     "name": "stdout",
     "output_type": "stream",
     "text": [
      "\n"
     ]
    }
   ],
   "source": [
    "counts = []\n",
    "for col in tqdm_notebook(data.only(\"CAT\", \"TIME:DTIME_CREDIT_WEEKDAY\", \"TIME:DTIME_CREDIT_MONTH\").columns):\n",
    "    group_count = data.groupby([\"ID\", col]).size().reset_index()\n",
    "    count = group_count.pivot(index=\"ID\", columns=col, values=0).fillna(0.0)\n",
    "    count.columns = [\"COUNT:{}_{}\".format(col, x) for x in count.columns]\n",
    "    counts.append(count)"
   ]
  },
  {
   "cell_type": "code",
   "execution_count": 33,
   "metadata": {},
   "outputs": [],
   "source": [
    "data_count = pd.concat(counts, axis=1).reset_index()\n",
    "data = data.merge(data_count, on='ID', how='left')"
   ]
  },
  {
   "cell_type": "code",
   "execution_count": 34,
   "metadata": {},
   "outputs": [
    {
     "name": "stdout",
     "output_type": "stream",
     "text": [
      "CPU times: user 1.62 s, sys: 476 ms, total: 2.09 s\n",
      "Wall time: 2.09 s\n"
     ]
    }
   ],
   "source": [
    "%%time\n",
    "lengths = data.groupby('ID').size()\n",
    "labels = data.groupby('ID')['DEF'].first()\n",
    "idxs = data.index\n",
    "data.drop('DEF', axis=1, inplace=True)"
   ]
  },
  {
   "cell_type": "code",
   "execution_count": 35,
   "metadata": {},
   "outputs": [],
   "source": [
    "data_len = lengths.reset_index().rename(columns={0: 'COUNT:SIZE'})\n",
    "data = data.merge(data_len, on='ID', how='left')"
   ]
  },
  {
   "cell_type": "markdown",
   "metadata": {},
   "source": [
    "### Некоторые операции над другими фичами"
   ]
  },
  {
   "cell_type": "code",
   "execution_count": 36,
   "metadata": {},
   "outputs": [],
   "source": [
    "data['OP:SUB_SUM_DEBT'] = data['AMT:CREDIT_SUM'] - data['AMT:CREDIT_SUM_DEBT']\n",
    "data['OP:REL_SUM_DEBT'] = data['AMT:CREDIT_SUM_DEBT'] / (data['AMT:CREDIT_SUM'] + 1)\n",
    "data['OP:REL_SUM_ANNUITY'] = data['AMT:CREDIT_SUM'] / (data['AMT:ANNUITY'] + 1)\n",
    "data['OP:REL_SUM_DELTA_CREDIT'] = data['AMT:CREDIT_SUM'] / (\n",
    "    data['DELTA:DATE:DTIME_CREDIT_ENDDATE_FACT_DATE:DTIME_CREDIT'] + 0.1)\n",
    "data['OP:REL_SUM_DELTA_CREDIT_AMT_ANNUITY'] = data['AMT:ANNUITY'] - \\\n",
    "                                              data['OP:REL_SUM_DELTA_CREDIT']\n",
    "data['OP:SUB_SUM_MAX_OVERDUE'] = data['AMT:CREDIT_SUM_OVERDUE'] - \\\n",
    "                                 data['AMT:CREDIT_MAX_OVERDUE']\n",
    "data['OP:REL_DEBT_OVERDUE'] = data['AMT:CREDIT_SUM_DEBT'] / (\n",
    "    data['AMT:CREDIT_SUM_OVERDUE'] + 2)\n",
    "data['OP:SUB_ANNUITY_SUM_DELTA_CREDIT'] = data['AMT:ANNUITY'] - data['OP:REL_SUM_DELTA_CREDIT']\n",
    "data['OP:REL_SUM_MAX_OVERDUE'] = data['AMT:CREDIT_SUM_OVERDUE'] - \\\n",
    "                                 data['AMT:CREDIT_MAX_OVERDUE']\n",
    "data['OP:REL_DEBT_OVERDUE'] = data['AMT:CREDIT_SUM_DEBT'] / \\\n",
    "                             (data['AMT:CREDIT_SUM_OVERDUE'] + 2)"
   ]
  },
  {
   "cell_type": "code",
   "execution_count": 38,
   "metadata": {},
   "outputs": [],
   "source": [
    "use_columns = ['COUNT', 'TIME', \n",
    "               'CREDIT_DELAY', 'AMT', \n",
    "               'CNT', 'OP','DELTA',\n",
    "               'DELTA', 'CREDIT_DAY_OVERDUE',\n",
    "               'CAT:CREDIT_COLLATERAL', 'ID', \n",
    "               'CAT:CREDIT_ACTIVE']"
   ]
  },
  {
   "cell_type": "code",
   "execution_count": 39,
   "metadata": {},
   "outputs": [],
   "source": [
    "data_use = data.only(*use_columns)"
   ]
  },
  {
   "cell_type": "markdown",
   "metadata": {},
   "source": [
    "### Агрегирование фичей как среднее, максимум, медиана, стандартное отклонение"
   ]
  },
  {
   "cell_type": "code",
   "execution_count": 41,
   "metadata": {
    "scrolled": true
   },
   "outputs": [
    {
     "name": "stdout",
     "output_type": "stream",
     "text": [
      "CPU times: user 19.6 s, sys: 2.23 s, total: 21.8 s\n",
      "Wall time: 21.8 s\n"
     ]
    }
   ],
   "source": [
    "%%time\n",
    "grouped_mean = data_use.groupby('ID').mean()\n",
    "grouped_active_mean = data_use[data_use['CAT:CREDIT_ACTIVE'] == 1].omit('CAT:CREDIT_ACTIVE').groupby('ID').mean()\n",
    "\n",
    "grouped_max = data_use.groupby('ID').max()\n",
    "grouped_active_max = data_use[data_use['CAT:CREDIT_ACTIVE'] == 1].omit('CAT:CREDIT_ACTIVE').groupby('ID').max()\n",
    "\n",
    "grouped_median = data_use.groupby('ID').median()\n",
    "grouped_active_median = data_use[data_use['CAT:CREDIT_ACTIVE'] == 1].omit('CAT:CREDIT_ACTIVE').groupby('ID').median()\n",
    "\n",
    "grouped_std = data_use.groupby('ID').std()\n",
    "grouped_active_std = data_use[data_use['CAT:CREDIT_ACTIVE'] == 1].omit('CAT:CREDIT_ACTIVE').groupby('ID').std()\n",
    "\n",
    "grouped_mean.columns = [\"MEAN:{}\".format(col) for col in grouped_mean.columns]\n",
    "grouped_active_mean.columns = [\"ACTIVE_MEAN:{}\".format(col) for col in grouped_active_mean.columns]\n",
    "\n",
    "grouped_max.columns = [\"MAX:{}\".format(col) for col in grouped_max.columns]\n",
    "grouped_active_max.columns = [\"ACTIVE_MAX:{}\".format(col) for col in grouped_active_max.columns]\n",
    "\n",
    "grouped_median.columns = [\"MEDIAN:{}\".format(col) for col in grouped_median.columns]\n",
    "grouped_active_median.columns = [\"ACTIVE_MEDIAN:{}\".format(col) for col in grouped_active_median.columns]\n",
    "\n",
    "grouped_std.columns = [\"STD:{}\".format(col) for col in grouped_std.columns]\n",
    "grouped_active_std.columns = [\"ACTIVE_STD:{}\".format(col) for col in grouped_active_std.columns]"
   ]
  },
  {
   "cell_type": "code",
   "execution_count": 42,
   "metadata": {},
   "outputs": [],
   "source": [
    "grouped_data = grouped_mean.merge(\n",
    "    grouped_active_mean, left_index=True, right_index=True, how='left'\n",
    ").merge(\n",
    "    grouped_max, left_index=True, right_index=True, how='left'\n",
    ").merge(\n",
    "    grouped_active_max, left_index=True, right_index=True, how='left'\n",
    ").merge(\n",
    "    grouped_std, left_index=True, right_index=True, how='left'\n",
    ").merge(\n",
    "    grouped_active_std, left_index=True, right_index=True, how='left'\n",
    ").merge(\n",
    "    grouped_median, left_index=True, right_index=True, how='left'\n",
    ").merge(\n",
    "    grouped_active_median, left_index=True, right_index=True, how='left'\n",
    ")\n",
    "\n",
    "train_idxs = labels[labels.notnull()].index\n",
    "test_idxs = labels[labels.isnull()].index\n",
    "train_data = grouped_data.loc[train_idxs]\n",
    "train_labels = labels.loc[train_idxs]\n",
    "test_data = grouped_data.loc[test_idxs]"
   ]
  },
  {
   "cell_type": "code",
   "execution_count": 43,
   "metadata": {},
   "outputs": [],
   "source": [
    "from sklearn.model_selection import TimeSeriesSplit, StratifiedKFold, KFold, GroupKFold\n",
    "from lightgbm import LGBMClassifier\n",
    "from sklearn.ensemble import RandomForestClassifier\n",
    "from mint.mltools.feature import ColumnSelectorPD\n",
    "from mint.mltools.feature import BorutaPD"
   ]
  },
  {
   "cell_type": "markdown",
   "metadata": {},
   "source": [
    "### Обучаем 10 lgbm-ов и усредняем"
   ]
  },
  {
   "cell_type": "code",
   "execution_count": 86,
   "metadata": {},
   "outputs": [
    {
     "name": "stdout",
     "output_type": "stream",
     "text": [
      "0\n",
      "0.0336546838075\n",
      "1\n",
      "0.0336063883323\n",
      "2\n",
      "0.0336614730185\n",
      "3\n",
      "0.0336389382761\n",
      "4\n",
      "0.0336054025023\n",
      "5\n",
      "0.0335697290868\n",
      "6\n",
      "0.0336817723053\n",
      "7\n",
      "0.0336034814096\n",
      "8\n",
      "0.0335689431991\n",
      "9\n",
      "0.0336774894148\n",
      "CPU times: user 1h 8min 46s, sys: 2.86 s, total: 1h 8min 48s\n",
      "Wall time: 8min 58s\n"
     ]
    }
   ],
   "source": [
    "%%time\n",
    "predictions = []\n",
    "for i in range(10):\n",
    "    print(i)\n",
    "    lgb = LGBMClassifier(n_estimators=1000, reg_alpha=4, \n",
    "                         learning_rate=0.03, max_depth=2, random_state=i*777, n_jobs=-1, subsample=1 - i / 100)\n",
    "    lgb.fit(train_data.values, train_labels.values)\n",
    "    test_labels = lgb.predict_proba(test_data.values)[:, 1]\n",
    "    predictions.append(test_labels)\n",
    "    print(np.mean(test_labels))"
   ]
  },
  {
   "cell_type": "code",
   "execution_count": 107,
   "metadata": {},
   "outputs": [],
   "source": [
    "pd.DataFrame(np.mean(predictions, axis=0), index=test_idxs).rename_axis(\n",
    "    {0:'Score'}, axis=1).to_csv('msu_submit_lastt.csv')"
   ]
  }
 ],
 "metadata": {
  "anaconda-cloud": {},
  "kernelspec": {
   "display_name": "Python 3",
   "language": "python",
   "name": "python3"
  },
  "language_info": {
   "codemirror_mode": {
    "name": "ipython",
    "version": 3
   },
   "file_extension": ".py",
   "mimetype": "text/x-python",
   "name": "python",
   "nbconvert_exporter": "python",
   "pygments_lexer": "ipython3",
   "version": "3.6.3"
  },
  "toc": {
   "colors": {
    "hover_highlight": "#DAA520",
    "navigate_num": "#000000",
    "navigate_text": "#333333",
    "running_highlight": "#FF0000",
    "selected_highlight": "#FFD700",
    "sidebar_border": "#EEEEEE",
    "wrapper_background": "#FFFFFF"
   },
   "moveMenuLeft": true,
   "nav_menu": {
    "height": "48px",
    "width": "252px"
   },
   "navigate_menu": true,
   "number_sections": true,
   "sideBar": true,
   "threshold": 4.0,
   "toc_cell": false,
   "toc_section_display": "block",
   "toc_window_display": false,
   "widenNotebook": false
  },
  "varInspector": {
   "cols": {
    "lenName": 16.0,
    "lenType": 16.0,
    "lenVar": 40.0
   },
   "kernels_config": {
    "python": {
     "delete_cmd_postfix": "",
     "delete_cmd_prefix": "del ",
     "library": "var_list.py",
     "varRefreshCmd": "print(var_dic_list())"
    },
    "r": {
     "delete_cmd_postfix": ") ",
     "delete_cmd_prefix": "rm(",
     "library": "var_list.r",
     "varRefreshCmd": "cat(var_dic_list()) "
    }
   },
   "types_to_exclude": [
    "module",
    "function",
    "builtin_function_or_method",
    "instance",
    "_Feature"
   ],
   "window_display": false
  },
  "widgets": {
   "state": {},
   "version": "1.1.2"
  }
 },
 "nbformat": 4,
 "nbformat_minor": 2
}
